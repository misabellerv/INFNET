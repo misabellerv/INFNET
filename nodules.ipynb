{
 "cells": [
  {
   "cell_type": "markdown",
   "id": "f8a801ba-2661-4e8a-ad59-ebb7ca75ee13",
   "metadata": {},
   "source": [
    "## Malignant nodule prediction"
   ]
  },
  {
   "cell_type": "markdown",
   "id": "11526c75-28a3-4da5-bc4a-ea27413510ff",
   "metadata": {},
   "source": [
    "To use the knowledge acquired in machine learning, I'll be applying classifiers to predict if a breast nodule is benign or malignant.\n",
    "\n",
    "At the link: https://archive.ics.edu/ml/datasets/mmographic+Mass you will find the accessed dataset.\n",
    "\n",
    "But what is a mammogram? Mammography is an imaging technique in medicine that allows for internal structures of the breast as well as appearances of cancer, even lymph nodes, inflamed masses and even breast cancer. A structure that can evolve into a malignant biopsy is precisely a mass, according to the diagnostic definition made. Biopsy rates are approximately $70\\%$. The need for a computational model that detects the severity of breast structures is so that there is a reduction in procedures without a real need.\n",
    "\n",
    "We can build a system that, starting from average goals, we will try to start from several patients, find patterns by supervised learning and reduce this rate. Data used here is fromthe University Erlangen-Nuremberg between 2003 and 2006.\n",
    "\n",
    "The articles are as follows:\n",
    "\n",
    "1) BI-RADS Rating: 1 to 5 (ordinal, non-predictive)\n",
    "\n",
    "2) Age: patient's age (whole)\n",
    "\n",
    "3) Shape: dough shape: round=1 oval=2 lobular=3 irregular=4 (nominal)\n",
    "\n",
    "4) Margin: mass margin: circumscribed=1 microlobulated=2 obscure=3 ill-defined=4 spike=5 (nominal)\n",
    "\n",
    "5) Density: mass density: high=1 iso=2 low=3 containing=4 (ordinal fat)\n",
    "\n",
    "6) Severity: benign=0 or maligni=1 (binominal, target)\n",
    "\n",
    "There are 961 instances, 6 attributes (4 predictive, 1 target, and 1 non-predictive). The BI-RADS attribute was considered non-predictive, so it will not be included in the models. Severity will be our target.\n",
    "\n",
    "The following models will be used: Logistic regression, Decision tree and SVM."
   ]
  },
  {
   "cell_type": "markdown",
   "id": "cdf47cfa-c569-43fb-9877-aa0799700e83",
   "metadata": {},
   "source": [
    "## Importing bibs"
   ]
  },
  {
   "cell_type": "code",
   "execution_count": 46,
   "id": "5e056430-cfb2-4d2d-9257-0573d7eb2782",
   "metadata": {},
   "outputs": [],
   "source": [
    "import pandas as pd\n",
    "import numpy as np\n",
    "import sklearn.linear_model as lm\n",
    "from sklearn import (preprocessing,\n",
    "                     model_selection, metrics, tree, svm)\n",
    "import matplotlib.pyplot as plt\n",
    "import seaborn as sns\n",
    "import matplotlib.pyplot as plt\n",
    "from sklearn.model_selection import validation_curve\n",
    "from sklearn import metrics\n",
    "from sklearn.inspection import permutation_importance\n",
    "from ipywidgets import interact, interactive, fixed\n",
    "import ipywidgets as widgets\n",
    "import missingno as msno\n",
    "import shap\n",
    "import warnings\n",
    "warnings.filterwarnings(\"ignore\")\n",
    "\n",
    "\n",
    "%matplotlib inline"
   ]
  },
  {
   "cell_type": "markdown",
   "id": "9f95d666-c293-43c9-9b38-67a5352e49ad",
   "metadata": {},
   "source": [
    "## Pre-processing data"
   ]
  },
  {
   "cell_type": "markdown",
   "id": "cfd902cb-f328-4fa0-a157-f11fee420ba1",
   "metadata": {},
   "source": [
    "The main data original format was not .csv, however I decided to use this format because it is simpler to handle pandas."
   ]
  },
  {
   "cell_type": "code",
   "execution_count": 7,
   "id": "c6cc95e3-7fd7-4d48-99bb-954ddce7cac5",
   "metadata": {},
   "outputs": [
    {
     "data": {
      "text/html": [
       "<div>\n",
       "<style scoped>\n",
       "    .dataframe tbody tr th:only-of-type {\n",
       "        vertical-align: middle;\n",
       "    }\n",
       "\n",
       "    .dataframe tbody tr th {\n",
       "        vertical-align: top;\n",
       "    }\n",
       "\n",
       "    .dataframe thead th {\n",
       "        text-align: right;\n",
       "    }\n",
       "</style>\n",
       "<table border=\"1\" class=\"dataframe\">\n",
       "  <thead>\n",
       "    <tr style=\"text-align: right;\">\n",
       "      <th></th>\n",
       "      <th>BI-RADS</th>\n",
       "      <th>Age</th>\n",
       "      <th>Shape</th>\n",
       "      <th>Margin</th>\n",
       "      <th>Density</th>\n",
       "      <th>Severity</th>\n",
       "    </tr>\n",
       "  </thead>\n",
       "  <tbody>\n",
       "    <tr>\n",
       "      <th>0</th>\n",
       "      <td>5</td>\n",
       "      <td>67</td>\n",
       "      <td>3</td>\n",
       "      <td>5</td>\n",
       "      <td>3</td>\n",
       "      <td>1</td>\n",
       "    </tr>\n",
       "    <tr>\n",
       "      <th>1</th>\n",
       "      <td>4</td>\n",
       "      <td>43</td>\n",
       "      <td>1</td>\n",
       "      <td>1</td>\n",
       "      <td>?</td>\n",
       "      <td>1</td>\n",
       "    </tr>\n",
       "    <tr>\n",
       "      <th>2</th>\n",
       "      <td>5</td>\n",
       "      <td>58</td>\n",
       "      <td>4</td>\n",
       "      <td>5</td>\n",
       "      <td>3</td>\n",
       "      <td>1</td>\n",
       "    </tr>\n",
       "    <tr>\n",
       "      <th>3</th>\n",
       "      <td>4</td>\n",
       "      <td>28</td>\n",
       "      <td>1</td>\n",
       "      <td>1</td>\n",
       "      <td>3</td>\n",
       "      <td>0</td>\n",
       "    </tr>\n",
       "    <tr>\n",
       "      <th>4</th>\n",
       "      <td>5</td>\n",
       "      <td>74</td>\n",
       "      <td>1</td>\n",
       "      <td>5</td>\n",
       "      <td>?</td>\n",
       "      <td>1</td>\n",
       "    </tr>\n",
       "  </tbody>\n",
       "</table>\n",
       "</div>"
      ],
      "text/plain": [
       "  BI-RADS Age Shape Margin Density  Severity\n",
       "0       5  67     3      5       3         1\n",
       "1       4  43     1      1       ?         1\n",
       "2       5  58     4      5       3         1\n",
       "3       4  28     1      1       3         0\n",
       "4       5  74     1      5       ?         1"
      ]
     },
     "execution_count": 7,
     "metadata": {},
     "output_type": "execute_result"
    }
   ],
   "source": [
    "df_mamo = pd.read_csv('../Projects/mamo.csv.data',header= None)\n",
    "\n",
    "df_mamo.columns = ['BI-RADS', 'Age', 'Shape', 'Margin','Density','Severity']\n",
    "\n",
    "df_mamo.head()"
   ]
  },
  {
   "cell_type": "markdown",
   "id": "5a0faeeb-c374-497f-8796-ae3bb9f6c6a4",
   "metadata": {},
   "source": [
    "It is noticed that here where there is missing information in the columns, instead of NaN, there are strings of \"?\". I'll replace with NaNs and then count how many missing values '?' there are for each attribute."
   ]
  },
  {
   "cell_type": "code",
   "execution_count": 8,
   "id": "60f4cde6-124b-4ca0-b146-1bcf08e1b2f3",
   "metadata": {},
   "outputs": [
    {
     "data": {
      "text/plain": [
       "BI-RADS      2\n",
       "Age          5\n",
       "Shape       31\n",
       "Margin      48\n",
       "Density     76\n",
       "Severity     0\n",
       "dtype: int64"
      ]
     },
     "execution_count": 8,
     "metadata": {},
     "output_type": "execute_result"
    }
   ],
   "source": [
    "df_mamo.replace('?', np.NaN,inplace=True)\n",
    "\n",
    "df_mamo.isna().sum()"
   ]
  },
  {
   "cell_type": "markdown",
   "id": "02f6bd03-02b3-42a0-846b-5a578a626ff5",
   "metadata": {},
   "source": [
    "Despite looking at the amount of missing data, it is interesting to use the missigno library to - in each attribute - observe how much non-missing data we have, and compare in a bar chart."
   ]
  },
  {
   "cell_type": "code",
   "execution_count": 10,
   "id": "cb971cca-7601-441b-a5ef-fa89c5477da3",
   "metadata": {},
   "outputs": [
    {
     "data": {
      "text/plain": [
       "<AxesSubplot:>"
      ]
     },
     "execution_count": 10,
     "metadata": {},
     "output_type": "execute_result"
    },
    {
     "data": {
      "image/png": "[encoded data removed]",
      "text/plain": [
       "<Figure size 360x360 with 3 Axes>"
      ]
     },
     "metadata": {
      "needs_background": "light"
     },
     "output_type": "display_data"
    }
   ],
   "source": [
    "# percentual de dados não ausentes\n",
    "\n",
    "msno.bar(df_mamo, figsize = (5,5))"
   ]
  },
  {
   "cell_type": "markdown",
   "id": "00c0106a-867c-4bcf-ab1a-fb10070f98d6",
   "metadata": {},
   "source": [
    "Here you can see that compared to the totality, there are not so many missing values. It is necessary to decide, however, what to do with these - because as we will see later, some models do not deal well with missing data. My decision was to replace them with the median of the value because the median can better describe a distribution if there is an outlier, or it is not fully symmetrical.\n",
    "I also took advantage and deleted the BI-RADS column, as this is a non-predictive feature."
   ]
  },
  {
   "cell_type": "code",
   "execution_count": 11,
   "id": "fe1343e5-87b5-4ba4-ac11-3122e0856c11",
   "metadata": {},
   "outputs": [
    {
     "data": {
      "text/html": [
       "<div>\n",
       "<style scoped>\n",
       "    .dataframe tbody tr th:only-of-type {\n",
       "        vertical-align: middle;\n",
       "    }\n",
       "\n",
       "    .dataframe tbody tr th {\n",
       "        vertical-align: top;\n",
       "    }\n",
       "\n",
       "    .dataframe thead th {\n",
       "        text-align: right;\n",
       "    }\n",
       "</style>\n",
       "<table border=\"1\" class=\"dataframe\">\n",
       "  <thead>\n",
       "    <tr style=\"text-align: right;\">\n",
       "      <th></th>\n",
       "      <th>Age</th>\n",
       "      <th>Shape</th>\n",
       "      <th>Margin</th>\n",
       "      <th>Density</th>\n",
       "      <th>Severity</th>\n",
       "    </tr>\n",
       "  </thead>\n",
       "  <tbody>\n",
       "    <tr>\n",
       "      <th>0</th>\n",
       "      <td>67</td>\n",
       "      <td>3</td>\n",
       "      <td>5</td>\n",
       "      <td>3</td>\n",
       "      <td>1</td>\n",
       "    </tr>\n",
       "    <tr>\n",
       "      <th>1</th>\n",
       "      <td>43</td>\n",
       "      <td>1</td>\n",
       "      <td>1</td>\n",
       "      <td>3</td>\n",
       "      <td>1</td>\n",
       "    </tr>\n",
       "    <tr>\n",
       "      <th>2</th>\n",
       "      <td>58</td>\n",
       "      <td>4</td>\n",
       "      <td>5</td>\n",
       "      <td>3</td>\n",
       "      <td>1</td>\n",
       "    </tr>\n",
       "    <tr>\n",
       "      <th>3</th>\n",
       "      <td>28</td>\n",
       "      <td>1</td>\n",
       "      <td>1</td>\n",
       "      <td>3</td>\n",
       "      <td>0</td>\n",
       "    </tr>\n",
       "    <tr>\n",
       "      <th>4</th>\n",
       "      <td>74</td>\n",
       "      <td>1</td>\n",
       "      <td>5</td>\n",
       "      <td>3</td>\n",
       "      <td>1</td>\n",
       "    </tr>\n",
       "  </tbody>\n",
       "</table>\n",
       "</div>"
      ],
      "text/plain": [
       "   Age  Shape  Margin  Density  Severity\n",
       "0   67      3       5        3         1\n",
       "1   43      1       1        3         1\n",
       "2   58      4       5        3         1\n",
       "3   28      1       1        3         0\n",
       "4   74      1       5        3         1"
      ]
     },
     "execution_count": 11,
     "metadata": {},
     "output_type": "execute_result"
    }
   ],
   "source": [
    "df_mamo.fillna(df_mamo.median().round(1), inplace=True)\n",
    "df_mamo = df_mamo.astype(int)\n",
    "df_mamo.drop('BI-RADS', axis=1, inplace=True)\n",
    "\n",
    "df_mamo.head()"
   ]
  },
  {
   "cell_type": "markdown",
   "id": "812f18c5-a20c-444f-93ef-a3c4e8b6f522",
   "metadata": {},
   "source": [
    "Normalizing and pre-processing the data is useful to us as they help to improve the performance of some models. In addition, in different units\\scales it is also useful to normalize so that there is a standardization of the scales because the procedure we are doing is that the data have the mean 0 and standard deviation equal to 1, and thus a model will not be able to give more importance to a variable with a larger scalar. In this case, the variables do not differ much in scale from each other, only age, but for the sake of possible performance improvement of models that will be mentioned, I will be normalizing the data."
   ]
  },
  {
   "cell_type": "code",
   "execution_count": 12,
   "id": "bf12b64f-67ea-4ad0-92e0-24ec616e9c37",
   "metadata": {},
   "outputs": [
    {
     "data": {
      "text/html": [
       "<div>\n",
       "<style scoped>\n",
       "    .dataframe tbody tr th:only-of-type {\n",
       "        vertical-align: middle;\n",
       "    }\n",
       "\n",
       "    .dataframe tbody tr th {\n",
       "        vertical-align: top;\n",
       "    }\n",
       "\n",
       "    .dataframe thead th {\n",
       "        text-align: right;\n",
       "    }\n",
       "</style>\n",
       "<table border=\"1\" class=\"dataframe\">\n",
       "  <thead>\n",
       "    <tr style=\"text-align: right;\">\n",
       "      <th></th>\n",
       "      <th>Age</th>\n",
       "      <th>Shape</th>\n",
       "      <th>Margin</th>\n",
       "      <th>Density</th>\n",
       "      <th>Severity</th>\n",
       "    </tr>\n",
       "  </thead>\n",
       "  <tbody>\n",
       "    <tr>\n",
       "      <th>0</th>\n",
       "      <td>0.796984</td>\n",
       "      <td>0.220384</td>\n",
       "      <td>1.436762</td>\n",
       "      <td>0.224804</td>\n",
       "      <td>1</td>\n",
       "    </tr>\n",
       "    <tr>\n",
       "      <th>1</th>\n",
       "      <td>-0.865610</td>\n",
       "      <td>-1.415052</td>\n",
       "      <td>-1.183216</td>\n",
       "      <td>0.224804</td>\n",
       "      <td>1</td>\n",
       "    </tr>\n",
       "    <tr>\n",
       "      <th>2</th>\n",
       "      <td>0.173511</td>\n",
       "      <td>1.038102</td>\n",
       "      <td>1.436762</td>\n",
       "      <td>0.224804</td>\n",
       "      <td>1</td>\n",
       "    </tr>\n",
       "    <tr>\n",
       "      <th>3</th>\n",
       "      <td>-1.904732</td>\n",
       "      <td>-1.415052</td>\n",
       "      <td>-1.183216</td>\n",
       "      <td>0.224804</td>\n",
       "      <td>0</td>\n",
       "    </tr>\n",
       "    <tr>\n",
       "      <th>4</th>\n",
       "      <td>1.281908</td>\n",
       "      <td>-1.415052</td>\n",
       "      <td>1.436762</td>\n",
       "      <td>0.224804</td>\n",
       "      <td>1</td>\n",
       "    </tr>\n",
       "  </tbody>\n",
       "</table>\n",
       "</div>"
      ],
      "text/plain": [
       "        Age     Shape    Margin   Density  Severity\n",
       "0  0.796984  0.220384  1.436762  0.224804         1\n",
       "1 -0.865610 -1.415052 -1.183216  0.224804         1\n",
       "2  0.173511  1.038102  1.436762  0.224804         1\n",
       "3 -1.904732 -1.415052 -1.183216  0.224804         0\n",
       "4  1.281908 -1.415052  1.436762  0.224804         1"
      ]
     },
     "execution_count": 12,
     "metadata": {},
     "output_type": "execute_result"
    }
   ],
   "source": [
    "normalizado = pd.DataFrame(preprocessing.StandardScaler().fit_transform(df_mamo[['Age', 'Shape', 'Margin', 'Density']]))\n",
    "normalizado['Severity'] = df_mamo['Severity']\n",
    "normalizado.columns = ['Age', 'Shape', 'Margin','Density','Severity']\n",
    "\n",
    "normalizado.head()"
   ]
  },
  {
   "cell_type": "markdown",
   "id": "a336f62d-5fca-47e8-9bc9-44cd67d43397",
   "metadata": {},
   "source": [
    "## Exploratory analysis"
   ]
  },
  {
   "cell_type": "markdown",
   "id": "48346495-b5b4-4a4d-8b56-43f68c49e0de",
   "metadata": {},
   "source": [
    "An exploratory data analysis is necessary for us to understand the type of dataset we are dealing with. First, understand if the data are balanced, then understand how they are distributed, if there are outliers and if there is a correlation between the variables. Here we can see the respective averages and deviations of the attributes"
   ]
  },
  {
   "cell_type": "code",
   "execution_count": 13,
   "id": "1ffe2a4a-95da-4aeb-99a9-2203f66f7219",
   "metadata": {},
   "outputs": [
    {
     "data": {
      "text/html": [
       "<div>\n",
       "<style scoped>\n",
       "    .dataframe tbody tr th:only-of-type {\n",
       "        vertical-align: middle;\n",
       "    }\n",
       "\n",
       "    .dataframe tbody tr th {\n",
       "        vertical-align: top;\n",
       "    }\n",
       "\n",
       "    .dataframe thead th {\n",
       "        text-align: right;\n",
       "    }\n",
       "</style>\n",
       "<table border=\"1\" class=\"dataframe\">\n",
       "  <thead>\n",
       "    <tr style=\"text-align: right;\">\n",
       "      <th></th>\n",
       "      <th>Age</th>\n",
       "      <th>Shape</th>\n",
       "      <th>Margin</th>\n",
       "      <th>Density</th>\n",
       "      <th>Severity</th>\n",
       "    </tr>\n",
       "  </thead>\n",
       "  <tbody>\n",
       "    <tr>\n",
       "      <th>count</th>\n",
       "      <td>961.000000</td>\n",
       "      <td>961.000000</td>\n",
       "      <td>961.000000</td>\n",
       "      <td>961.000000</td>\n",
       "      <td>961.000000</td>\n",
       "    </tr>\n",
       "    <tr>\n",
       "      <th>mean</th>\n",
       "      <td>55.495317</td>\n",
       "      <td>2.730489</td>\n",
       "      <td>2.806452</td>\n",
       "      <td>2.917794</td>\n",
       "      <td>0.463059</td>\n",
       "    </tr>\n",
       "    <tr>\n",
       "      <th>std</th>\n",
       "      <td>14.442783</td>\n",
       "      <td>1.223552</td>\n",
       "      <td>1.527525</td>\n",
       "      <td>0.365869</td>\n",
       "      <td>0.498893</td>\n",
       "    </tr>\n",
       "    <tr>\n",
       "      <th>min</th>\n",
       "      <td>18.000000</td>\n",
       "      <td>1.000000</td>\n",
       "      <td>1.000000</td>\n",
       "      <td>1.000000</td>\n",
       "      <td>0.000000</td>\n",
       "    </tr>\n",
       "    <tr>\n",
       "      <th>25%</th>\n",
       "      <td>45.000000</td>\n",
       "      <td>2.000000</td>\n",
       "      <td>1.000000</td>\n",
       "      <td>3.000000</td>\n",
       "      <td>0.000000</td>\n",
       "    </tr>\n",
       "    <tr>\n",
       "      <th>50%</th>\n",
       "      <td>57.000000</td>\n",
       "      <td>3.000000</td>\n",
       "      <td>3.000000</td>\n",
       "      <td>3.000000</td>\n",
       "      <td>0.000000</td>\n",
       "    </tr>\n",
       "    <tr>\n",
       "      <th>75%</th>\n",
       "      <td>66.000000</td>\n",
       "      <td>4.000000</td>\n",
       "      <td>4.000000</td>\n",
       "      <td>3.000000</td>\n",
       "      <td>1.000000</td>\n",
       "    </tr>\n",
       "    <tr>\n",
       "      <th>max</th>\n",
       "      <td>96.000000</td>\n",
       "      <td>4.000000</td>\n",
       "      <td>5.000000</td>\n",
       "      <td>4.000000</td>\n",
       "      <td>1.000000</td>\n",
       "    </tr>\n",
       "  </tbody>\n",
       "</table>\n",
       "</div>"
      ],
      "text/plain": [
       "              Age       Shape      Margin     Density    Severity\n",
       "count  961.000000  961.000000  961.000000  961.000000  961.000000\n",
       "mean    55.495317    2.730489    2.806452    2.917794    0.463059\n",
       "std     14.442783    1.223552    1.527525    0.365869    0.498893\n",
       "min     18.000000    1.000000    1.000000    1.000000    0.000000\n",
       "25%     45.000000    2.000000    1.000000    3.000000    0.000000\n",
       "50%     57.000000    3.000000    3.000000    3.000000    0.000000\n",
       "75%     66.000000    4.000000    4.000000    3.000000    1.000000\n",
       "max     96.000000    4.000000    5.000000    4.000000    1.000000"
      ]
     },
     "execution_count": 13,
     "metadata": {},
     "output_type": "execute_result"
    }
   ],
   "source": [
    "df_mamo.describe()"
   ]
  },
  {
   "cell_type": "markdown",
   "id": "b280c85e-5605-4b30-8ec6-87f9fc8c68f3",
   "metadata": {},
   "source": [
    "We can see from describe function our data means have close values such as standard deviation, except for age feature."
   ]
  },
  {
   "cell_type": "markdown",
   "id": "5218fd76-ec53-4c06-808e-01947ad71b04",
   "metadata": {},
   "source": [
    "The graph below shows that the dataset is well balanced: $53.7 \\%$ benign to $46.3\\%$ malignant"
   ]
  },
  {
   "cell_type": "code",
   "execution_count": 14,
   "id": "80c81e2f-4d2d-488e-bb1f-17a12b917e6e",
   "metadata": {},
   "outputs": [
    {
     "data": {
      "text/plain": [
       "<AxesSubplot:ylabel='Severity'>"
      ]
     },
     "execution_count": 14,
     "metadata": {},
     "output_type": "execute_result"
    },
    {
     "data": {
      "image/png": "[encoded data removed]",
      "text/plain": [
       "<Figure size 432x432 with 1 Axes>"
      ]
     },
     "metadata": {},
     "output_type": "display_data"
    }
   ],
   "source": [
    "df_mamo['Severity'].value_counts().plot(kind='pie', explode = [0,0.1], figsize = (6,6), autopct = '%1.1f%%', shadow = True)"
   ]
  },
  {
   "cell_type": "markdown",
   "id": "e2b93092-85e8-4db5-9edb-b8de19933bb1",
   "metadata": {},
   "source": [
    "If the classes were unbalanced, during model training, the most populous classes could bias the classification results. One of the solutions is to use a different metric than the \"standard\" (accuracy). You can use precision and recall. Another solution would be to use tree-based algorithms, as they can perform better according to the smaller class distribution. What can also be used is a penalty model, as we will see in the sckit-learn functions, as the models accept a parameter called class_weight. By defining this as 'balanced', the model tries to regularize minority classes against the majority.\n",
    "GridSearch - also used here - searches the model through weight parameters, making it possible to assign higher weights to smaller classes"
   ]
  },
  {
   "cell_type": "markdown",
   "id": "d479d38d-ae0e-4ed2-9f3d-f55475c17fd4",
   "metadata": {},
   "source": [
    "We can produce a histogram of the attributes to see concentrations of values"
   ]
  },
  {
   "cell_type": "code",
   "execution_count": 16,
   "id": "fed2c092-23ad-4710-b5b9-ebf93967ccd8",
   "metadata": {},
   "outputs": [
    {
     "name": "stderr",
     "output_type": "stream",
     "text": [
      "C:\\Users\\Isabelle\\AppData\\Local\\Temp\\ipykernel_11720\\1137212384.py:3: UserWarning: To output multiple subplots, the figure containing the passed axes is being cleared.\n",
      "  df_mamo.drop(columns = 'Severity').hist(ax = ax)\n"
     ]
    },
    {
     "data": {
      "text/plain": [
       "array([[<AxesSubplot:title={'center':'Age'}>,\n",
       "        <AxesSubplot:title={'center':'Shape'}>],\n",
       "       [<AxesSubplot:title={'center':'Margin'}>,\n",
       "        <AxesSubplot:title={'center':'Density'}>]], dtype=object)"
      ]
     },
     "execution_count": 16,
     "metadata": {},
     "output_type": "execute_result"
    },
    {
     "data": {
      "image/png": "[encoded data removed]",
      "text/plain": [
       "<Figure size 360x360 with 4 Axes>"
      ]
     },
     "metadata": {
      "needs_background": "light"
     },
     "output_type": "display_data"
    }
   ],
   "source": [
    "fig = plt.figure(figsize = (5,5))\n",
    "ax = fig.gca()\n",
    "df_mamo.drop(columns = 'Severity').hist(ax = ax)"
   ]
  },
  {
   "cell_type": "markdown",
   "id": "b58f3b99-c856-44cc-9cbd-461f40a68a5c",
   "metadata": {},
   "source": [
    "In the histogram, we can see that for Age, they are well concentrated in middle age. As for shape, the shapes found are mostly of classification 4. In the margin, we see that the values ​​for 1 and 4 are more predominant. In density, it is possible to see that for pattern 3, there is this dominance with respect to the measured values"
   ]
  },
  {
   "cell_type": "markdown",
   "id": "6ef0580c-6b54-4678-9610-f933c8b8ce7a",
   "metadata": {},
   "source": [
    "We can plot the boxplots to check for the presence of outliers. In the case below, we can see that there is no significant presence of these, which is positive because the SVM model is sensitive to outliers."
   ]
  },
  {
   "cell_type": "code",
   "execution_count": 17,
   "id": "bd5e21f1-9f4c-4aa4-b03a-6188e5292d86",
   "metadata": {},
   "outputs": [
    {
     "data": {
      "text/plain": [
       "<AxesSubplot:xlabel='Density'>"
      ]
     },
     "execution_count": 17,
     "metadata": {},
     "output_type": "execute_result"
    },
    {
     "data": {
      "image/png": "[encoded data removed]",
      "text/plain": [
       "<Figure size 432x288 with 4 Axes>"
      ]
     },
     "metadata": {
      "needs_background": "light"
     },
     "output_type": "display_data"
    }
   ],
   "source": [
    "fig, axes = plt.subplots(1, 4)\n",
    "\n",
    "sns.boxplot(data=df_mamo, x='Age', ax=axes[0])\n",
    "sns.boxplot(data=df_mamo, x='Shape', ax=axes[1])\n",
    "sns.boxplot(data=df_mamo, x='Margin', ax=axes[2])\n",
    "sns.boxplot(data=df_mamo, x='Density', ax=axes[3])"
   ]
  },
  {
   "cell_type": "markdown",
   "id": "c784a9b5-4f05-419c-a0a8-a2fba845f853",
   "metadata": {},
   "source": [
    "The correlation graph allows us to make pairwise comparisons between attributes. The standard correlation used here was Pearson's, which measures the linear dependence between them, that is, how linearly correlated these variables are with each other. Columns that have a high degree of correlation can impair the interpretation of the importance of coefficients and attributes in the regression. This is due to the fact that logistic regression assumes linear independence between attributes (which will not always correspond to reality, and there are its advantages in using it anyway, an aspect that I will discuss in more depth when I get into the models part) "
   ]
  },
  {
   "cell_type": "code",
   "execution_count": 18,
   "id": "19b30c0c-8789-4148-a1a1-0cfa5198bb82",
   "metadata": {},
   "outputs": [
    {
     "data": {
      "image/png": "[encoded data removed]",
      "text/plain": [
       "<Figure size 432x432 with 2 Axes>"
      ]
     },
     "metadata": {
      "needs_background": "light"
     },
     "output_type": "display_data"
    }
   ],
   "source": [
    "from seaborn import heatmap\n",
    "\n",
    "fig, ax = plt.subplots(figsize=(6,6))\n",
    "ax.set_title('Correlation between features - Pearson')\n",
    "ax = heatmap(df_mamo.drop(columns='Severity').corr(),fmt = '.2f', annot=True, ax=ax, vmin=-1,vmax=1)"
   ]
  },
  {
   "cell_type": "markdown",
   "id": "da5d814b-9cbe-4a51-a99f-600bdf45053d",
   "metadata": {},
   "source": [
    "Here it can be seen that Shape and Margin are highly correlated, but in general, our attributes are not so strongly correlated. Remembering that 1 is the \"perfect\" correlation coefficient, that is, fully linearly correlated, having a high degree of correlation if the coefficient is between ± 0.50 and ± 1.\n",
    "Moderate for values between ±0.30 and ±0.49, and low for values below 0.29"
   ]
  },
  {
   "cell_type": "markdown",
   "id": "a38eb217-d6c1-4ebc-9f8e-c1fc17102f6f",
   "metadata": {},
   "source": [
    "## Modeling "
   ]
  },
  {
   "cell_type": "markdown",
   "id": "8d677e2d-3ecc-4050-8743-9b5642038cea",
   "metadata": {},
   "source": [
    "After analyzing the data, it is necessary to implement the LOGIT, TREE, SVM models. For this, it is necessary to define how the classification models will be made.\n",
    "This requires a more general view of a machine learning process. The reference I use is CRISP-DM (Cross-Industry Standard Process for Data Mining) which involves:\n",
    "\n",
    "1) Understanding the problem\n",
    "2) Understanding the data\n",
    "3) Modeling\n",
    "4) Evaluation\n",
    "5) Deployment of the model\n",
    "\n",
    "After our data collection, analysis, and processing, it's time to use some algorithms. The choice of algorithm must be made according to an analysis of the type of problem, for example, in a model where the attributes are very little correlated and there is some independence of the attributes, we could consider using a Naive Bayes. In this case, we will use three classic algorithms in order to make didactic discussions for the discipline. Despite this, there is a theorem with a curious name, the \"No free lunch\", which tells us that it is not possible for a machine learning algorithm to perform optimally for any dataset, but still reducing its use to a finite number of cases, it is possible to find one that is more suitable.\n",
    "\n",
    "In this way, the model is created from a classifier, and is trained on a training dataset, that is, there are parameters that try to adapt to the standards that lead to a classification (it can also be called of fit). Having then the model, it is possible to use the test data to verify if it can be generalized to a random dataset. We say that the ideal model is the one that avoids overfitting (overfitting the data) and underfitting (exaggerated generalization), bringing to light the tradeoff between bias and variance. A model that is overfitted may add to its results - for example - external noise and thus not generalize well when performing on another dataset of the same kind. Then, it is necessary to evaluate the model. Given the previous discussion, one would expect the performance of a model to be higher for the training set.\n",
    "\n",
    "It is essential to optimize the model, as they present parameters that can improve or worsen its performance. One of the ways to optimize it is to use Gridsearch, which is a search class that optimizes the model by testing it with several parameters, and returning what would be the best result according to a chosen metric.\n",
    "\n",
    "Made the evaluation based on the choice with the best parameters, the models and importance of attributes are interpreted, so that the deployment can be carried out"
   ]
  },
  {
   "cell_type": "markdown",
   "id": "633b0596-4c43-4ef8-a75c-0091a61fcb4c",
   "metadata": {},
   "source": [
    "Then I define my target column and the attribute columns"
   ]
  },
  {
   "cell_type": "code",
   "execution_count": 19,
   "id": "a94d86ba-2d92-4bd8-aabf-6a7704d7203c",
   "metadata": {},
   "outputs": [],
   "source": [
    "target_cols = ['Severity']\n",
    "\n",
    "categorical_cols = ['Age','Shape','Margin','Density']\n",
    "\n",
    "classification_scores = ['accuracy','precision_weighted',\n",
    "                         'recall_weighted', 'roc_auc_ovr_weighted',\n",
    "                         'f1_weighted']"
   ]
  },
  {
   "cell_type": "markdown",
   "id": "89cd17f4-b044-405c-b789-9c6612937be0",
   "metadata": {},
   "source": [
    "Then, we split the attribute vector and the target, separating them into training and testing"
   ]
  },
  {
   "cell_type": "code",
   "execution_count": 20,
   "id": "fad040e9-e460-49d4-83f8-a340cfce8b58",
   "metadata": {},
   "outputs": [],
   "source": [
    "Y = normalizado[target_cols]\n",
    "X = normalizado.drop(target_cols, axis=1)\n",
    "\n",
    "# train/test\n",
    "xtrain, xtest, ytrain, ytest = model_selection.train_test_split(X,Y,\n",
    "                                                                test_size=0.33)"
   ]
  },
  {
   "cell_type": "markdown",
   "id": "f907eeb7-9947-41a6-9696-8237faffb683",
   "metadata": {},
   "source": [
    "Before proceeding, it is important to discuss the concept of cross-validation.\n",
    "Cross-validation is a technique that aims to evaluate machine learning models by using slices of the model's input data while evaluating these in a so-called complementary subset of the data. We can use CV to detect overfitting because it performs different training for these slices. The one used below is the so-called k-fold cross-validation, in which the input data is divided into k subsets (or folds), the model is trained in k-1 folds, and then the model is evaluated in the remaining set. This is then repeated k times with a different fold to test each iteration. \n",
    "In this case, I chose to make the number of slices (or called \"splits) equal to 10"
   ]
  },
  {
   "cell_type": "code",
   "execution_count": 21,
   "id": "3fd55cc2-f7f6-48f0-8975-dab1d3fb0bc2",
   "metadata": {},
   "outputs": [],
   "source": [
    "# cross validation\n",
    "\n",
    "cvfold = model_selection.StratifiedKFold(n_splits = 10, random_state = 0,\n",
    "                                         shuffle=True)\n",
    "\n",
    "# map training\\test\n",
    "\n",
    "df_train = xtrain.copy()\n",
    "df_test = xtest.copy()\n",
    "df_train['train_set'] = 1\n",
    "df_test['train_set'] = 0\n",
    "df_train[target_cols] = ytrain\n",
    "df_test[target_cols] = ytest"
   ]
  },
  {
   "cell_type": "markdown",
   "id": "5cdf72c1-233e-47aa-b7c0-6b4e81e2e4fd",
   "metadata": {},
   "source": [
    "Now I map the models that will be used, remembering the class_weight balanced, even if the classes are well balanced, and I also map the parameters that will be used and tested for each model. Notice that in the scoring I chose the precision metric. I will then make an argument about metrics and why this was chosen as the main one to evaluate our model."
   ]
  },
  {
   "cell_type": "markdown",
   "id": "e98a8efa-6303-4f6f-9475-4b5b6a9c2c8f",
   "metadata": {},
   "source": [
    "GridsearchCV will search and optimize the hyperparameters, and cross-validate the procedure explained above. It is interesting to use this search in sckit-learn as it offers the .best_estimator and .coefs_\n",
    "\n",
    "One of the models used is logistic regression. I will briefly discuss this one precisely because it is not a direct synonym of linear regression.\n",
    "We can think of linear regression as a fit of a line (or function) to a database, in which the model tries to predict the value of a continuous variable such that it configures the best line that fits to make predictions. We can say that we make an adjustment of the type:\n",
    "\n",
    "$y_{i} = \\beta_{0} + \\beta_{1}X_{i1} + ... + \\beta_{n}X_{in} + ϵ_{i} $\n",
    "\n",
    "Where $ϵ$ represents what we call the external noise of the model. Therefore, the coefficients $β_{i}$ are estimated by certain optimization algorithms, that is, the coefficients that generate the smallest error $ϵ_{i}$. We can then say that linear regression returns a value of $y$ from the optimized coefficients, for example, predicting the price of real estate sales in N years with appreciation. The model returns price values.\n",
    "\n",
    "For logistic regression, the problem is a classification, that is, an assignment of a label. We can think of an example as an image prediction where we want to find out if the image refers to a cat or a dog. This problem is one of binary classification, and between the binary targets 1 = dog and 0 = cat, it is not possible to describe a quantitative relationship between them, since the values assigned to the targets are only referring to a different class from another. What we want to describe in the end are probabilities relative to finding that class, and not just a linear regression value. A linear regression value would no longer make sense in this case. Now, a direct linear relationship between the variables is not assumed, but between the predictors and the ratio of the probabilities of finding each class. We can use as an example a binary classification, where we have:\n",
    "\n",
    "$p = P(Y=1)$ \n",
    "\n",
    "$logit(p) = log(\\dfrac{p}{1-p}) = log(p) - log(1-p)$\n",
    "\n",
    "Where logit is our function called logistic, just for logistic regression. This function defines our linear relationship:\n",
    "\n",
    "$log(\\dfrac{p}{1-p}) = \\beta_{0} + \\beta_{1}X_{i1} + ... + \\beta_{n}X_{in} + ϵ_{i}$\n",
    "\n",
    "Being able to then isolate $p$:\n",
    "\n",
    "$p = \\dfrac{1}{1+e^{-(\\beta_{0} + \\beta_{1}X_{i1} + ... + \\beta_{n}X_{in} + ϵ_{i} )}}$\n",
    "\n",
    "Obtaining the sigmoid function, in the form of an S which at the upper end indicates that the classification obtained a result 1 and at the lower end, the result 0"
   ]
  },
  {
   "cell_type": "code",
   "execution_count": 25,
   "id": "f357a91a-7367-4a89-9706-093af230ad52",
   "metadata": {},
   "outputs": [
    {
     "name": "stdout",
     "output_type": "stream",
     "text": [
      "Processing model training logit\n",
      "Processing model training tree\n",
      "Processing model training svm\n"
     ]
    }
   ],
   "source": [
    "model_map = {\n",
    "    'logit': lm.LogisticRegression(class_weight='balanced'),\n",
    "    'tree': tree.DecisionTreeClassifier(class_weight='balanced'),\n",
    "    'svm': svm.SVC(class_weight='balanced', probability=True)\n",
    "}\n",
    "model_params = {\n",
    "    'logit': {\n",
    "        'C': [0.01, 0.1, 1, 10, 100],\n",
    "        'penalty': ['l1', 'l2', 'elasticnet', 'none']\n",
    "    },\n",
    "    'tree': {\n",
    "        'max_depth': [2, 3, 4, 5, 6, 7],\n",
    "        'criterion' : ['gini', 'entropy'],\n",
    "        'min_samples_split': [2, 4, 6, 8],\n",
    "        'max_features': [\"auto\", \"sqrt\", \"log2\"]\n",
    "    },\n",
    "    'svm': {\n",
    "        'kernel': ['linear', 'rbf','poly'],\n",
    "        'C': [0.01, 0.1, 1, 10, 100]\n",
    "        }\n",
    "}\n",
    "trained_models = {}\n",
    "\n",
    "for model_name in model_map.keys():\n",
    "  print(f'Processing model training {model_name}')\n",
    "\n",
    "  model = model_selection.GridSearchCV(estimator=model_map[model_name],\n",
    "                                       param_grid = model_params[model_name],\n",
    "                                       cv=cvfold, scoring = 'precision')\n",
    "  model.fit(xtrain[categorical_cols], ytrain)\n",
    "  trained_models[model_name] = model\n",
    "  xtrain[model_name] = model.predict_proba(xtrain[categorical_cols])[:,1]\n",
    "  xtest[model_name] = model.predict_proba(xtest[categorical_cols])[:,1]\n",
    "  df_train[model_name +'_prob'] = model.predict_proba(xtrain[categorical_cols])[:,1]\n",
    "  df_test[model_name +'_prob']  = model.predict_proba(xtest[categorical_cols])[:,1]\n",
    "  normalizado = pd.concat((df_train, df_test), axis=0)"
   ]
  },
  {
   "cell_type": "markdown",
   "id": "af3dcd0f-895e-4bd5-8205-c92dfc2e1cb5",
   "metadata": {},
   "source": [
    "You can view the best results found by GridsearchCV for each of the models below"
   ]
  },
  {
   "cell_type": "code",
   "execution_count": 26,
   "id": "b6899609-70b6-4d6c-a790-790928d0292d",
   "metadata": {},
   "outputs": [
    {
     "name": "stdout",
     "output_type": "stream",
     "text": [
      "Model results logit : LogisticRegression(C=0.1, class_weight='balanced') \n",
      "\n",
      "Model results tree : DecisionTreeClassifier(class_weight='balanced', criterion='entropy',\n",
      "                       max_depth=2, max_features='log2') \n",
      "\n",
      "Model results svm : SVC(C=100, class_weight='balanced', probability=True) \n",
      "\n"
     ]
    }
   ],
   "source": [
    "for model_name in model_map.keys():\n",
    "  print(f'Model results {model_name} : {trained_models[model_name].best_estimator_} \\n')"
   ]
  },
  {
   "cell_type": "markdown",
   "id": "ca2a103f-1476-4712-ad7c-5627b2bb9129",
   "metadata": {},
   "source": [
    "Once the modeling is done and the best hyperparameters found by GridsearchCV, we can start to discover the performance of the models"
   ]
  },
  {
   "cell_type": "markdown",
   "id": "cd59b500-f870-4f0b-aab2-8bf0e8a47c0a",
   "metadata": {},
   "source": [
    "## Model performance"
   ]
  },
  {
   "cell_type": "markdown",
   "id": "207e5960-f4c0-4c26-a099-f4487a393e23",
   "metadata": {},
   "source": [
    "Regarding metrics, a discussion about them is necessary. I'll do the discussion that fits our case: binary classification.\n",
    "\n",
    "A binary classifier, after being subjected to model training and testing, can have four results: false negatives, false positives, true negatives and true positives. The classifications of true positives and true negatives correspond to correct classifications, and the true negatives and false negatives and false positives are configured as an error in the classification. This forms a matrix (confusion matrix) with diagonal $a_{11},a_{22}$ respectively true negative and true positive, in the columns of negative forecast and positive forecast respectively. Ideally, a classifier would have high values on the diagonal line of the true ones. From these values, we can define the metrics:\n",
    "\n",
    "1) Accuracy: Represents the percentage of correct ratings. It's a good metric to use when classes are balanced. However, it is not a reliable metric for unbalanced datasets\n",
    "\n",
    "2) Recall: Percentage of positive values sorted correctly, that is, we can ask ourselves how many relevant results are returned. recall is the ideal measure of performance in a scenario to minimize false negatives\n",
    "\n",
    "3) Precision: It determines the percentage of positive predictions that were correct, that is, we can ask ourselves how relevant the results are. Thus, we must select the precision to minimize false positives\n",
    "\n",
    "4) F1-SCORE: It represents a harmonic mean between recall and precision"
   ]
  },
  {
   "cell_type": "markdown",
   "id": "108ceb9f-3d7f-4d67-b423-caf3add09920",
   "metadata": {},
   "source": [
    "In this way, as we want to minimize the amount of unnecessary biopsies, that is, minimize false positives, we will base ourselves on precision"
   ]
  },
  {
   "cell_type": "markdown",
   "id": "869e38e1-c970-4f98-9489-dc2fc85540f3",
   "metadata": {},
   "source": [
    "The ROC curve will show the performance of the classifier according to its true positive (recall) rate as the false positive rate varies. This won't be very useful in our case, as we want to decrease false positives. I then used the precision-recall curve, where I look for a balance between results I need while looking at precision given the precision definition above. As accuracy decreases, recall increases"
   ]
  },
  {
   "cell_type": "code",
   "execution_count": 27,
   "id": "d2619018-eb77-4cd3-863e-a112ffffaa1c",
   "metadata": {},
   "outputs": [
    {
     "data": {
      "image/png": "[encoded data removed]",
      "text/plain": [
       "<Figure size 432x288 with 2 Axes>"
      ]
     },
     "metadata": {
      "needs_background": "light"
     },
     "output_type": "display_data"
    }
   ],
   "source": [
    "fig, (ax1,ax2) = plt.subplots(1,2)\n",
    "\n",
    "for model_name in model_map.keys():\n",
    "  fpr, tpr, thr = metrics.precision_recall_curve(ytrain, xtrain[model_name])\n",
    "  ax1.plot(fpr, tpr, label=(model_name))\n",
    "  ax1.legend(loc='best')\n",
    "  ax1.set_title('Precision-recall curve train')\n",
    "\n",
    "for model_name in model_map.keys():\n",
    "  fpr, tpr, thr = metrics.precision_recall_curve(ytest, xtest[model_name])\n",
    "  ax2.plot(fpr, tpr, label=(model_name))\n",
    "  ax2.legend(loc='best')\n",
    "  ax2.set_title('Precision-recall curve test')"
   ]
  },
  {
   "cell_type": "markdown",
   "id": "a1e2d74c-8272-4ee7-a5e6-d39d59e46fec",
   "metadata": {},
   "source": [
    "We can see that in training set, the model that performed best was the decision tree followed by svm, however in the test the logit seemed to perform better. The argument for this is because the model furthest to the right represents a situation approaching the ideal: high precision and high recall."
   ]
  },
  {
   "cell_type": "code",
   "execution_count": 28,
   "id": "5bb3298a-1f90-4b0b-982c-e9200534dbbe",
   "metadata": {},
   "outputs": [
    {
     "data": {
      "text/html": [
       "<div>\n",
       "<style scoped>\n",
       "    .dataframe tbody tr th:only-of-type {\n",
       "        vertical-align: middle;\n",
       "    }\n",
       "\n",
       "    .dataframe tbody tr th {\n",
       "        vertical-align: top;\n",
       "    }\n",
       "\n",
       "    .dataframe thead th {\n",
       "        text-align: right;\n",
       "    }\n",
       "</style>\n",
       "<table border=\"1\" class=\"dataframe\">\n",
       "  <thead>\n",
       "    <tr style=\"text-align: right;\">\n",
       "      <th></th>\n",
       "      <th>Age</th>\n",
       "      <th>Shape</th>\n",
       "      <th>Margin</th>\n",
       "      <th>Density</th>\n",
       "      <th>train_set</th>\n",
       "      <th>Severity</th>\n",
       "      <th>logit_prob</th>\n",
       "      <th>tree_prob</th>\n",
       "      <th>svm_prob</th>\n",
       "    </tr>\n",
       "  </thead>\n",
       "  <tbody>\n",
       "    <tr>\n",
       "      <th>944</th>\n",
       "      <td>1.004809</td>\n",
       "      <td>-1.415052</td>\n",
       "      <td>0.781768</td>\n",
       "      <td>0.224804</td>\n",
       "      <td>1</td>\n",
       "      <td>1</td>\n",
       "      <td>0.552964</td>\n",
       "      <td>0.593635</td>\n",
       "      <td>0.794339</td>\n",
       "    </tr>\n",
       "    <tr>\n",
       "      <th>216</th>\n",
       "      <td>0.242786</td>\n",
       "      <td>-0.597334</td>\n",
       "      <td>0.781768</td>\n",
       "      <td>0.224804</td>\n",
       "      <td>1</td>\n",
       "      <td>0</td>\n",
       "      <td>0.549605</td>\n",
       "      <td>0.593635</td>\n",
       "      <td>0.383440</td>\n",
       "    </tr>\n",
       "    <tr>\n",
       "      <th>750</th>\n",
       "      <td>0.589160</td>\n",
       "      <td>-1.415052</td>\n",
       "      <td>-1.183216</td>\n",
       "      <td>0.224804</td>\n",
       "      <td>1</td>\n",
       "      <td>0</td>\n",
       "      <td>0.197777</td>\n",
       "      <td>0.161919</td>\n",
       "      <td>0.210027</td>\n",
       "    </tr>\n",
       "    <tr>\n",
       "      <th>274</th>\n",
       "      <td>0.104237</td>\n",
       "      <td>1.038102</td>\n",
       "      <td>0.781768</td>\n",
       "      <td>0.224804</td>\n",
       "      <td>1</td>\n",
       "      <td>1</td>\n",
       "      <td>0.743707</td>\n",
       "      <td>0.809915</td>\n",
       "      <td>0.735631</td>\n",
       "    </tr>\n",
       "    <tr>\n",
       "      <th>687</th>\n",
       "      <td>0.589160</td>\n",
       "      <td>1.038102</td>\n",
       "      <td>0.781768</td>\n",
       "      <td>0.224804</td>\n",
       "      <td>1</td>\n",
       "      <td>1</td>\n",
       "      <td>0.798673</td>\n",
       "      <td>0.809915</td>\n",
       "      <td>0.736221</td>\n",
       "    </tr>\n",
       "    <tr>\n",
       "      <th>...</th>\n",
       "      <td>...</td>\n",
       "      <td>...</td>\n",
       "      <td>...</td>\n",
       "      <td>...</td>\n",
       "      <td>...</td>\n",
       "      <td>...</td>\n",
       "      <td>...</td>\n",
       "      <td>...</td>\n",
       "      <td>...</td>\n",
       "    </tr>\n",
       "    <tr>\n",
       "      <th>953</th>\n",
       "      <td>0.034962</td>\n",
       "      <td>-0.597334</td>\n",
       "      <td>0.781768</td>\n",
       "      <td>0.224804</td>\n",
       "      <td>0</td>\n",
       "      <td>0</td>\n",
       "      <td>0.516260</td>\n",
       "      <td>0.593635</td>\n",
       "      <td>0.248658</td>\n",
       "    </tr>\n",
       "    <tr>\n",
       "      <th>874</th>\n",
       "      <td>0.450610</td>\n",
       "      <td>0.220384</td>\n",
       "      <td>0.126773</td>\n",
       "      <td>0.224804</td>\n",
       "      <td>0</td>\n",
       "      <td>0</td>\n",
       "      <td>0.589667</td>\n",
       "      <td>0.161919</td>\n",
       "      <td>0.237633</td>\n",
       "    </tr>\n",
       "    <tr>\n",
       "      <th>168</th>\n",
       "      <td>-0.103588</td>\n",
       "      <td>0.220384</td>\n",
       "      <td>1.436762</td>\n",
       "      <td>0.224804</td>\n",
       "      <td>0</td>\n",
       "      <td>1</td>\n",
       "      <td>0.711322</td>\n",
       "      <td>0.593635</td>\n",
       "      <td>0.753357</td>\n",
       "    </tr>\n",
       "    <tr>\n",
       "      <th>515</th>\n",
       "      <td>-2.389656</td>\n",
       "      <td>-1.415052</td>\n",
       "      <td>-1.183216</td>\n",
       "      <td>0.224804</td>\n",
       "      <td>0</td>\n",
       "      <td>0</td>\n",
       "      <td>0.034855</td>\n",
       "      <td>0.161919</td>\n",
       "      <td>0.186970</td>\n",
       "    </tr>\n",
       "    <tr>\n",
       "      <th>502</th>\n",
       "      <td>-1.904732</td>\n",
       "      <td>-0.597334</td>\n",
       "      <td>-1.183216</td>\n",
       "      <td>0.224804</td>\n",
       "      <td>0</td>\n",
       "      <td>0</td>\n",
       "      <td>0.073742</td>\n",
       "      <td>0.161919</td>\n",
       "      <td>0.187987</td>\n",
       "    </tr>\n",
       "  </tbody>\n",
       "</table>\n",
       "<p>961 rows × 9 columns</p>\n",
       "</div>"
      ],
      "text/plain": [
       "          Age     Shape    Margin   Density  train_set  Severity  logit_prob  \\\n",
       "944  1.004809 -1.415052  0.781768  0.224804          1         1    0.552964   \n",
       "216  0.242786 -0.597334  0.781768  0.224804          1         0    0.549605   \n",
       "750  0.589160 -1.415052 -1.183216  0.224804          1         0    0.197777   \n",
       "274  0.104237  1.038102  0.781768  0.224804          1         1    0.743707   \n",
       "687  0.589160  1.038102  0.781768  0.224804          1         1    0.798673   \n",
       "..        ...       ...       ...       ...        ...       ...         ...   \n",
       "953  0.034962 -0.597334  0.781768  0.224804          0         0    0.516260   \n",
       "874  0.450610  0.220384  0.126773  0.224804          0         0    0.589667   \n",
       "168 -0.103588  0.220384  1.436762  0.224804          0         1    0.711322   \n",
       "515 -2.389656 -1.415052 -1.183216  0.224804          0         0    0.034855   \n",
       "502 -1.904732 -0.597334 -1.183216  0.224804          0         0    0.073742   \n",
       "\n",
       "     tree_prob  svm_prob  \n",
       "944   0.593635  0.794339  \n",
       "216   0.593635  0.383440  \n",
       "750   0.161919  0.210027  \n",
       "274   0.809915  0.735631  \n",
       "687   0.809915  0.736221  \n",
       "..         ...       ...  \n",
       "953   0.593635  0.248658  \n",
       "874   0.161919  0.237633  \n",
       "168   0.593635  0.753357  \n",
       "515   0.161919  0.186970  \n",
       "502   0.161919  0.187987  \n",
       "\n",
       "[961 rows x 9 columns]"
      ]
     },
     "execution_count": 28,
     "metadata": {},
     "output_type": "execute_result"
    }
   ],
   "source": [
    "normalizado['target_label'] = normalizado['Severity'].apply(lambda x: 'benign' if x == 0 else 'malign')\n",
    "\n",
    "normalizado_label_map = normalizado[['Severity', 'target_label']].drop_duplicates()\n",
    "\n",
    "normalizado.drop(columns = 'target_label')"
   ]
  },
  {
   "cell_type": "code",
   "execution_count": 29,
   "id": "91d3e80f-88fa-4a40-854b-e4b054e278a5",
   "metadata": {},
   "outputs": [
    {
     "data": {
      "text/html": [
       "<div>\n",
       "<style scoped>\n",
       "    .dataframe tbody tr th:only-of-type {\n",
       "        vertical-align: middle;\n",
       "    }\n",
       "\n",
       "    .dataframe tbody tr th {\n",
       "        vertical-align: top;\n",
       "    }\n",
       "\n",
       "    .dataframe thead th {\n",
       "        text-align: right;\n",
       "    }\n",
       "</style>\n",
       "<table border=\"1\" class=\"dataframe\">\n",
       "  <thead>\n",
       "    <tr style=\"text-align: right;\">\n",
       "      <th></th>\n",
       "      <th>Age</th>\n",
       "      <th>Shape</th>\n",
       "      <th>Margin</th>\n",
       "      <th>Density</th>\n",
       "      <th>Severity</th>\n",
       "      <th>logit_prob</th>\n",
       "      <th>tree_prob</th>\n",
       "      <th>svm_prob</th>\n",
       "    </tr>\n",
       "  </thead>\n",
       "  <tbody>\n",
       "    <tr>\n",
       "      <th>794</th>\n",
       "      <td>-0.657786</td>\n",
       "      <td>-1.415052</td>\n",
       "      <td>-1.183216</td>\n",
       "      <td>0.224804</td>\n",
       "      <td>0</td>\n",
       "      <td>0.099364</td>\n",
       "      <td>0.161919</td>\n",
       "      <td>0.193661</td>\n",
       "    </tr>\n",
       "    <tr>\n",
       "      <th>143</th>\n",
       "      <td>-0.588511</td>\n",
       "      <td>-1.415052</td>\n",
       "      <td>-1.183216</td>\n",
       "      <td>-2.509838</td>\n",
       "      <td>0</td>\n",
       "      <td>0.087868</td>\n",
       "      <td>0.161919</td>\n",
       "      <td>0.079999</td>\n",
       "    </tr>\n",
       "    <tr>\n",
       "      <th>480</th>\n",
       "      <td>-1.073435</td>\n",
       "      <td>1.038102</td>\n",
       "      <td>0.126773</td>\n",
       "      <td>0.224804</td>\n",
       "      <td>1</td>\n",
       "      <td>0.464470</td>\n",
       "      <td>0.809915</td>\n",
       "      <td>0.704355</td>\n",
       "    </tr>\n",
       "    <tr>\n",
       "      <th>928</th>\n",
       "      <td>1.281908</td>\n",
       "      <td>1.038102</td>\n",
       "      <td>0.126773</td>\n",
       "      <td>0.224804</td>\n",
       "      <td>1</td>\n",
       "      <td>0.798417</td>\n",
       "      <td>0.809915</td>\n",
       "      <td>0.746338</td>\n",
       "    </tr>\n",
       "    <tr>\n",
       "      <th>32</th>\n",
       "      <td>0.104237</td>\n",
       "      <td>1.038102</td>\n",
       "      <td>0.781768</td>\n",
       "      <td>0.224804</td>\n",
       "      <td>1</td>\n",
       "      <td>0.743707</td>\n",
       "      <td>0.809915</td>\n",
       "      <td>0.735631</td>\n",
       "    </tr>\n",
       "    <tr>\n",
       "      <th>...</th>\n",
       "      <td>...</td>\n",
       "      <td>...</td>\n",
       "      <td>...</td>\n",
       "      <td>...</td>\n",
       "      <td>...</td>\n",
       "      <td>...</td>\n",
       "      <td>...</td>\n",
       "      <td>...</td>\n",
       "    </tr>\n",
       "    <tr>\n",
       "      <th>953</th>\n",
       "      <td>0.034962</td>\n",
       "      <td>-0.597334</td>\n",
       "      <td>0.781768</td>\n",
       "      <td>0.224804</td>\n",
       "      <td>0</td>\n",
       "      <td>0.516260</td>\n",
       "      <td>0.593635</td>\n",
       "      <td>0.248658</td>\n",
       "    </tr>\n",
       "    <tr>\n",
       "      <th>874</th>\n",
       "      <td>0.450610</td>\n",
       "      <td>0.220384</td>\n",
       "      <td>0.126773</td>\n",
       "      <td>0.224804</td>\n",
       "      <td>0</td>\n",
       "      <td>0.589667</td>\n",
       "      <td>0.161919</td>\n",
       "      <td>0.237633</td>\n",
       "    </tr>\n",
       "    <tr>\n",
       "      <th>168</th>\n",
       "      <td>-0.103588</td>\n",
       "      <td>0.220384</td>\n",
       "      <td>1.436762</td>\n",
       "      <td>0.224804</td>\n",
       "      <td>1</td>\n",
       "      <td>0.711322</td>\n",
       "      <td>0.593635</td>\n",
       "      <td>0.753357</td>\n",
       "    </tr>\n",
       "    <tr>\n",
       "      <th>515</th>\n",
       "      <td>-2.389656</td>\n",
       "      <td>-1.415052</td>\n",
       "      <td>-1.183216</td>\n",
       "      <td>0.224804</td>\n",
       "      <td>0</td>\n",
       "      <td>0.034855</td>\n",
       "      <td>0.161919</td>\n",
       "      <td>0.186970</td>\n",
       "    </tr>\n",
       "    <tr>\n",
       "      <th>502</th>\n",
       "      <td>-1.904732</td>\n",
       "      <td>-0.597334</td>\n",
       "      <td>-1.183216</td>\n",
       "      <td>0.224804</td>\n",
       "      <td>0</td>\n",
       "      <td>0.073742</td>\n",
       "      <td>0.161919</td>\n",
       "      <td>0.187987</td>\n",
       "    </tr>\n",
       "  </tbody>\n",
       "</table>\n",
       "<p>318 rows × 8 columns</p>\n",
       "</div>"
      ],
      "text/plain": [
       "          Age     Shape    Margin   Density  Severity  logit_prob  tree_prob  \\\n",
       "794 -0.657786 -1.415052 -1.183216  0.224804         0    0.099364   0.161919   \n",
       "143 -0.588511 -1.415052 -1.183216 -2.509838         0    0.087868   0.161919   \n",
       "480 -1.073435  1.038102  0.126773  0.224804         1    0.464470   0.809915   \n",
       "928  1.281908  1.038102  0.126773  0.224804         1    0.798417   0.809915   \n",
       "32   0.104237  1.038102  0.781768  0.224804         1    0.743707   0.809915   \n",
       "..        ...       ...       ...       ...       ...         ...        ...   \n",
       "953  0.034962 -0.597334  0.781768  0.224804         0    0.516260   0.593635   \n",
       "874  0.450610  0.220384  0.126773  0.224804         0    0.589667   0.161919   \n",
       "168 -0.103588  0.220384  1.436762  0.224804         1    0.711322   0.593635   \n",
       "515 -2.389656 -1.415052 -1.183216  0.224804         0    0.034855   0.161919   \n",
       "502 -1.904732 -0.597334 -1.183216  0.224804         0    0.073742   0.161919   \n",
       "\n",
       "     svm_prob  \n",
       "794  0.193661  \n",
       "143  0.079999  \n",
       "480  0.704355  \n",
       "928  0.746338  \n",
       "32   0.735631  \n",
       "..        ...  \n",
       "953  0.248658  \n",
       "874  0.237633  \n",
       "168  0.753357  \n",
       "515  0.186970  \n",
       "502  0.187987  \n",
       "\n",
       "[318 rows x 8 columns]"
      ]
     },
     "execution_count": 29,
     "metadata": {},
     "output_type": "execute_result"
    }
   ],
   "source": [
    "normalizado_train = normalizado[normalizado['train_set']==1]\n",
    "normalizado_test = normalizado[normalizado['train_set']==0]\n",
    "\n",
    "normalizado_train.drop(columns = 'train_set',axis =1, inplace = True)\n",
    "normalizado_test.drop(columns = 'train_set',axis =1, inplace = True)\n",
    "\n",
    "normalizado_train_label_map = normalizado_train[['Severity', 'target_label']].drop_duplicates()\n",
    "\n",
    "normalizado_train.drop(columns = 'target_label')\n",
    "\n",
    "normalizado_test_label_map = normalizado_test[['Severity', 'target_label']].drop_duplicates()\n",
    "\n",
    "normalizado_test.drop(columns = 'target_label')"
   ]
  },
  {
   "cell_type": "markdown",
   "id": "5976851b-150b-4753-808a-a029a5b2a736",
   "metadata": {},
   "source": [
    "Looking at the recall precision curve, we can use an interactive graph to generate the confusion matrix corresponding to each thershold and thus make your choice, being able to observe the final metrics. We will do it for the training and test cases. The following function is an interative function, so feel free to try it yourself in your personal notebook and play with thresholds! "
   ]
  },
  {
   "cell_type": "code",
   "execution_count": 35,
   "id": "24e8660e-22f2-4277-acd4-0d3aba3eebe7",
   "metadata": {},
   "outputs": [
    {
     "data": {
      "application/vnd.jupyter.widget-view+json": {
       "model_id": "50b5ac7e309a4e0fa307cf57afa2475d",
       "version_major": 2,
       "version_minor": 0
      },
      "text/plain": [
       "interactive(children=(FloatSlider(value=0.0, description='threshold', max=1.0), Dropdown(description='model_na…"
      ]
     },
     "metadata": {},
     "output_type": "display_data"
    },
    {
     "data": {
      "text/plain": [
       "<function __main__.plot_operation_threshold(threshold, model_name)>"
      ]
     },
     "execution_count": 35,
     "metadata": {},
     "output_type": "execute_result"
    }
   ],
   "source": [
    "def plot_operation_threshold(threshold, model_name):\n",
    "    plt.figure(figsize=(12,4))\n",
    "    # confusion matrix\n",
    "    plt.subplot(1,2,1)\n",
    "    cm = metrics.confusion_matrix(normalizado_train[target_cols],\n",
    "                                  normalizado_train[model_name + '_prob'] > threshold)\n",
    "    sns.heatmap(cm, annot=True, fmt = '.0f')\n",
    "    plt.title('Confusion matrix ' + model_name + ' training set')\n",
    "    plt.xlabel('Classification')\n",
    "    plt.ylabel('Truth')\n",
    "    plt.gca().set_xticklabels(normalizado_train_label_map.Severity.values)\n",
    "    plt.gca().set_yticklabels(normalizado_train_label_map.Severity.values)\n",
    "    # DISTRIBUICAO PROBABILIDADES\n",
    "    plt.subplot(1,2,2)\n",
    "    for i in normalizado_train.Severity.unique():\n",
    "        sns.distplot(normalizado_train[normalizado_train['Severity'] == i][model_name + '_prob'],\n",
    "                 label=normalizado_train[normalizado_train.Severity == i].Severity,\n",
    "                 ax = plt.gca())\n",
    "    plt.plot([threshold, threshold], [0, plt.axis()[3]], '--k', lw=2,\n",
    "             label = 'Threshold')\n",
    "    plt.title('Prob distribuition per class ' + model_name + ' treino')\n",
    "    plt.ylabel('Estimated density')\n",
    "    plt.xlabel('Prob benign')\n",
    "    plt.xlim((-0.01,1.01))\n",
    "    plt.grid()\n",
    "    plt.legend()\n",
    "    plt.show()\n",
    "    # PRINT CLASSIFICATION REPORT\n",
    "    print(metrics.classification_report(normalizado_train[target_cols],\n",
    "                                        normalizado_train[model_name + '_prob'] > threshold,\n",
    "                                        target_names =\n",
    "                                        normalizado_train_label_map.target_label))\n",
    "interact(plot_operation_threshold, threshold=(0,1,0.1),\n",
    "         model_name = ['logit','tree','svm'],\n",
    "         )"
   ]
  },
  {
   "cell_type": "markdown",
   "id": "56749689-ada3-487f-a72c-e92d7cb42886",
   "metadata": {},
   "source": [
    "The classes are well balanced, but we can see that at thresholds with higher recall, the accuracy decreases for all models. I set the logit threshold at $40\\%$ and got an accuracy of $78\\%$, with an f1 of $76\\%$, however at this point, a good amount of recall is already 'sacrificed' - which is not a positive thing, the recall here is $68\\%$.\n",
    "\n",
    "As for the tree, at the same threshold we obtain an accuracy of $79\\%$ and f1 of $79\\%$ with a recall of $86\\%$, which does not change so much for the case of a threshold of $50\\%$, since in this case the values are in precision $86\\%$ and f1 of $85\\%$. It's important to perform well on our accuracy metric, but without sacrificing a large percentage of recall, which was not the case above.\n",
    "\n",
    "In svm, at the threshold of $40\\%$ I get an accuracy of $83%$ and f1 of $82\\%$, with a recall of $84\\%$. I prioritized the thresholds at 0.4 to get a better performance in terms of accuracy, but without compromising the fact that the classes might be a little (just a little, right?) unbalanced. Remembering that these were the performances found for training. In the training case, the best models were in fact the tree and the svm. Let's see now if these generalize well for the test"
   ]
  },
  {
   "cell_type": "code",
   "execution_count": 36,
   "id": "1d9e7d5c-c4e6-4550-b9df-989b2d68a9eb",
   "metadata": {},
   "outputs": [
    {
     "data": {
      "application/vnd.jupyter.widget-view+json": {
       "model_id": "0b8f61dad7fc41fd865f991b3f4bcdbc",
       "version_major": 2,
       "version_minor": 0
      },
      "text/plain": [
       "interactive(children=(FloatSlider(value=0.0, description='threshold', max=1.0), Dropdown(description='model_na…"
      ]
     },
     "metadata": {},
     "output_type": "display_data"
    },
    {
     "data": {
      "text/plain": [
       "<function __main__.plot_operation_threshold(threshold, model_name)>"
      ]
     },
     "execution_count": 36,
     "metadata": {},
     "output_type": "execute_result"
    }
   ],
   "source": [
    "def plot_operation_threshold(threshold, model_name):\n",
    "    plt.figure(figsize=(12,4))\n",
    "    # MATRIZ CONFUSAO\n",
    "    plt.subplot(1,2,1)\n",
    "    cm = metrics.confusion_matrix(normalizado_test[target_cols],\n",
    "                                  normalizado_test[model_name + '_prob'] > threshold)\n",
    "    sns.heatmap(cm, annot=True, fmt = '.0f')\n",
    "    plt.title('Confusion matrix ' + model_name + ' test set')\n",
    "    plt.xlabel('Classification')\n",
    "    plt.ylabel('Truth')\n",
    "    plt.gca().set_xticklabels(normalizado_test_label_map.Severity.values)\n",
    "    plt.gca().set_yticklabels(normalizado_test_label_map.Severity.values)\n",
    "    # DISTRIBUICAO PROBABILIDADES\n",
    "    plt.subplot(1,2,2)\n",
    "    for i in normalizado_test.Severity.unique():\n",
    "      sns.distplot(normalizado_test[normalizado_test['Severity'] == i][model_name + '_prob'],\n",
    "                 label=normalizado_test[normalizado_test.Severity == i].Severity,\n",
    "                 ax = plt.gca())\n",
    "    plt.plot([threshold, threshold], [0, plt.axis()[3]], '--k', lw=2,\n",
    "             label = 'threshold')\n",
    "    plt.title('Prob distribrution per class ' + model_name + ' test set')\n",
    "    plt.ylabel('Estimated density')\n",
    "    plt.xlabel('Prob benign')\n",
    "    plt.xlim((-0.01,1.01))\n",
    "    plt.grid()\n",
    "    plt.legend()\n",
    "    plt.show()\n",
    "    # PRINT CLASSIFICATION REPORT\n",
    "    print(metrics.classification_report(normalizado_test[target_cols],\n",
    "                                        normalizado_test[model_name + '_prob'] > threshold,\n",
    "                                        target_names =\n",
    "                                        normalizado_test_label_map.target_label))\n",
    "interact(plot_operation_threshold, threshold=(0,1,0.1),\n",
    "         model_name = ['logit','tree','svm'],\n",
    "         )"
   ]
  },
  {
   "cell_type": "markdown",
   "id": "a4b52007-f179-4d0d-8ebb-e08014cc12b7",
   "metadata": {},
   "source": [
    "Since I chose threshold at $40\\%$, we can see that for logit we got $91\\%$ recall, tree $83\\%$, and svm $76\\%$! This shows us the difference between the performance in training set and test set.\n",
    "\n",
    "As discussed earlier, a classifier may perform better on the training set, but it does not generalize as well to the test set. In this case, the chosen model that best performed according to precision and f1 in the test is the logistic regression model"
   ]
  },
  {
   "cell_type": "markdown",
   "id": "a38ca2d1-051e-4d3f-a3ed-42ce7584df04",
   "metadata": {},
   "source": [
    "## Model explainability"
   ]
  },
  {
   "cell_type": "markdown",
   "id": "a9e5d4b7-8ac4-4ee5-b0ee-7c8712ceb493",
   "metadata": {},
   "source": [
    "Some models, for example those that assume a linear relationship between the variables, have greater interpretability in relation to their coefficients, while other more complex models, such as svm, have more difficult interpretability. I will now show some aspects that influenced the choice and performance of models.\n",
    "\n",
    "I used yellowbrick to visualize the importance of attributes, where the relative magnitude scale of coefficient can go from -100 to +100. This allows us to have greater interpretability in terms of comparing their importance. We can see below that Margin is the attribute with the highest relative magnitude of coefficient, that is, we can consider that this is the attribute that most contributes to the model's predictions. Density, on the other hand, does not contribute much to the detection of the severity of the nodules because it has a much smaller relative magnitude than age, shape and margin."
   ]
  },
  {
   "cell_type": "code",
   "execution_count": 37,
   "id": "fcb89751-a53b-41e4-bb34-17c387fd221f",
   "metadata": {},
   "outputs": [
    {
     "data": {
      "image/png": "[encoded data removed]",
      "text/plain": [
       "<Figure size 432x288 with 1 Axes>"
      ]
     },
     "metadata": {},
     "output_type": "display_data"
    },
    {
     "data": {
      "text/plain": [
       "<AxesSubplot:title={'center':'Feature Importances of 4 Features using LogisticRegression'}, xlabel='relative coefficient magnitude'>"
      ]
     },
     "execution_count": 37,
     "metadata": {},
     "output_type": "execute_result"
    }
   ],
   "source": [
    "from yellowbrick.model_selection import FeatureImportances\n",
    "fig, ax = plt.subplots(figsize=(6,4))\n",
    "fi_viz = FeatureImportances(trained_models['logit'].best_estimator_)\n",
    "fi_viz.fit(X,Y)\n",
    "fi_viz.poof()"
   ]
  },
  {
   "cell_type": "markdown",
   "id": "ab36f429-63d0-497d-9581-30f7803bb401",
   "metadata": {},
   "source": [
    "For the tree, we can perform the same procedure with the coefficients, however the results are different from the logistic regression. Here, the relative importance of the coefficients (gini, as you will see more clearly in the tree path with graphviz) is observed, and it can be seen that the margin attribute has a relative importance that contributes much more to the performance of this model than the other attributes"
   ]
  },
  {
   "cell_type": "code",
   "execution_count": 39,
   "id": "64626294-cabc-4d0c-879c-4e1c40f8fa32",
   "metadata": {},
   "outputs": [
    {
     "data": {
      "image/png": "[encoded data removed]",
      "text/plain": [
       "<Figure size 432x288 with 1 Axes>"
      ]
     },
     "metadata": {},
     "output_type": "display_data"
    },
    {
     "data": {
      "text/plain": [
       "<AxesSubplot:title={'center':'Feature Importances of 4 Features using DecisionTreeClassifier'}, xlabel='relative importance'>"
      ]
     },
     "execution_count": 39,
     "metadata": {},
     "output_type": "execute_result"
    }
   ],
   "source": [
    "fig, ax = plt.subplots(figsize=(6,4))\n",
    "\n",
    "fi_viz_tree = FeatureImportances(trained_models['tree'].best_estimator_)\n",
    "fi_viz_tree.fit(X,Y)\n",
    "fi_viz_tree.poof()"
   ]
  },
  {
   "cell_type": "code",
   "execution_count": 43,
   "id": "986afec2-18c7-40ec-be1e-e7387f3915f2",
   "metadata": {},
   "outputs": [],
   "source": [
    "xtest.drop(columns = ['logit','tree','svm'], axis =1 , inplace = True)"
   ]
  },
  {
   "cell_type": "markdown",
   "id": "a76fc473-5140-4cd3-87d0-bb935caa51c0",
   "metadata": {},
   "source": [
    "It is also possible to evaluate, even for the tree, the importance of the variables by entropy and by the permutation procedure, and understand their respective differences between them"
   ]
  },
  {
   "cell_type": "code",
   "execution_count": 44,
   "id": "19f8cf52-6eb5-4a43-94ff-b553d3aced3e",
   "metadata": {},
   "outputs": [
    {
     "data": {
      "image/png": "[encoded data removed]",
      "text/plain": [
       "<Figure size 1080x432 with 2 Axes>"
      ]
     },
     "metadata": {},
     "output_type": "display_data"
    }
   ],
   "source": [
    "plt.figure(figsize=(15,6))\n",
    "\n",
    "\n",
    "plt.subplot(1,2,1)\n",
    "idx = np.argsort(trained_models['tree'].best_estimator_.feature_importances_)\n",
    "\n",
    "plt.barh(np.arange(idx.shape[0]), trained_models['tree'].best_estimator_.feature_importances_[idx]*100)\n",
    "\n",
    "plt.yticks(np.arange(idx.shape[0]), np.array(categorical_cols)[idx])\n",
    "plt.title('Importance of features by Entropy')\n",
    "plt.grid()\n",
    "plt.xlabel('Relative importance [%]')\n",
    "plt.tight_layout()\n",
    "\n",
    "\n",
    "plt.subplot(1,2,2)\n",
    "r = permutation_importance(trained_models['tree'].best_estimator_, xtest, ytest,\n",
    "                           n_repeats=30,\n",
    "                        random_state=0)\n",
    "importance =  r.importances_mean\n",
    "idx = np.argsort(importance)\n",
    "plt.barh(np.arange(idx.shape[0]), importance[idx]*100)\n",
    "plt.yticks(np.arange(idx.shape[0]), np.array(categorical_cols)[idx])\n",
    "plt.title('Importance of features by Permutation')\n",
    "plt.grid()\n",
    "plt.xlabel('Relative importance [%]')\n",
    "plt.tight_layout()"
   ]
  },
  {
   "cell_type": "markdown",
   "id": "79d3e782-951d-48c1-b46d-8ddca4dcc5be",
   "metadata": {},
   "source": [
    "We can see that despite being similar histograms, the values of relative importance for each feature differ from each other"
   ]
  },
  {
   "cell_type": "markdown",
   "id": "a1c8dc7e-da8e-42e2-805c-2d89e59637b5",
   "metadata": {},
   "source": [
    "As for svm, we have a model that is not well interpretable. We could use .coefs_ if we were on a linear kernel, but this was not the case for .best_estimator_. In this case, I will use the SHAP library, which shows the importance of attributes for any model. Here he summarizes all attributes, showing the global impact but also the individual impacts. The most important attributes can be seen at the top"
   ]
  },
  {
   "cell_type": "code",
   "execution_count": 45,
   "id": "a0526095-09de-43b5-973f-749780bf6fbb",
   "metadata": {},
   "outputs": [
    {
     "data": {
      "text/plain": [
       "SVC(C=100, class_weight='balanced', probability=True)"
      ]
     },
     "execution_count": 45,
     "metadata": {},
     "output_type": "execute_result"
    }
   ],
   "source": [
    "sv = trained_models['svm'].best_estimator_\n",
    "\n",
    "sv.fit(xtrain[categorical_cols],ytrain)"
   ]
  },
  {
   "cell_type": "code",
   "execution_count": 47,
   "id": "542fc6b6-d507-4e97-9d07-88618f41b43a",
   "metadata": {},
   "outputs": [
    {
     "name": "stderr",
     "output_type": "stream",
     "text": [
      "Using 318 background data samples could cause slower run times. Consider using shap.sample(data, K) or shap.kmeans(data, K) to summarize the background as K samples.\n"
     ]
    }
   ],
   "source": [
    "rf_shap_values = shap.KernelExplainer(sv.predict,xtest[categorical_cols])"
   ]
  },
  {
   "cell_type": "code",
   "execution_count": 48,
   "id": "a42d9f29-f10f-422c-89cf-46239ce7367f",
   "metadata": {},
   "outputs": [
    {
     "data": {
      "text/plain": [
       "<shap.explainers._kernel.Kernel at 0x2553a1bf580>"
      ]
     },
     "execution_count": 48,
     "metadata": {},
     "output_type": "execute_result"
    }
   ],
   "source": [
    "rf_shap_values"
   ]
  },
  {
   "cell_type": "code",
   "execution_count": 49,
   "id": "dc49c943-c6ec-439e-bb63-61e31d8eb1e1",
   "metadata": {},
   "outputs": [
    {
     "name": "stderr",
     "output_type": "stream",
     "text": [
      "Using 318 background data samples could cause slower run times. Consider using shap.sample(data, K) or shap.kmeans(data, K) to summarize the background as K samples.\n"
     ]
    },
    {
     "data": {
      "application/vnd.jupyter.widget-view+json": {
       "model_id": "eb807dc93679450f9c0650ee43a28d8b",
       "version_major": 2,
       "version_minor": 0
      },
      "text/plain": [
       "  0%|          | 0/318 [00:00<?, ?it/s]"
      ]
     },
     "metadata": {},
     "output_type": "display_data"
    }
   ],
   "source": [
    "svm_explainer = shap.KernelExplainer(sv.predict, xtest[categorical_cols])\n",
    "svm_shap_values = svm_explainer.shap_values(xtest[categorical_cols])"
   ]
  },
  {
   "cell_type": "code",
   "execution_count": 50,
   "id": "96cd9eba-9788-476d-babd-bf0e5d387261",
   "metadata": {},
   "outputs": [
    {
     "data": {
      "image/png": "[encoded data removed]",
      "text/plain": [
       "<Figure size 576x223.2 with 2 Axes>"
      ]
     },
     "metadata": {
      "needs_background": "light"
     },
     "output_type": "display_data"
    }
   ],
   "source": [
    "shap.summary_plot(svm_shap_values, xtest[categorical_cols])"
   ]
  },
  {
   "cell_type": "markdown",
   "id": "39a4cc57-8d12-47c4-8fbe-63b73200823f",
   "metadata": {},
   "source": [
    "Attributes are given certain colors according to their values. A high margin score will push the model to classify a nodule as malignant. Density is found here as the attribute that contributes the least to the svm model"
   ]
  }
 ],
 "metadata": {
  "kernelspec": {
   "display_name": "Python 3 (ipykernel)",
   "language": "python",
   "name": "python3"
  },
  "language_info": {
   "codemirror_mode": {
    "name": "ipython",
    "version": 3
   },
   "file_extension": ".py",
   "mimetype": "text/x-python",
   "name": "python",
   "nbconvert_exporter": "python",
   "pygments_lexer": "ipython3",
   "version": "3.8.13"
  }
 },
 "nbformat": 4,
 "nbformat_minor": 5
}
